{
 "cells": [
  {
   "cell_type": "code",
   "execution_count": 2,
   "metadata": {},
   "outputs": [],
   "source": [
    "# Import libraries and dependencies\n",
    "import numpy as np\n",
    "import pandas as pd\n",
    "import os\n",
    "from datetime import datetime, timedelta\n",
    "import matplotlib.pyplot as plt\n",
    "import alpaca_trade_api as tradeapi\n",
    "%matplotlib inline"
   ]
  },
  {
   "cell_type": "code",
   "execution_count": 3,
   "metadata": {},
   "outputs": [],
   "source": [
    "np.random.seed(42)"
   ]
  },
  {
   "cell_type": "markdown",
   "metadata": {},
   "source": [
    "# Portfolio Planner\n",
    "\n",
    "In this activity, you will use the Alpaca api to grab historical data for a 60/40 portfolio using `SPY` to represent the stock portion and `AGG` to represent the bonds."
   ]
  },
  {
   "cell_type": "code",
   "execution_count": 4,
   "metadata": {},
   "outputs": [],
   "source": [
    "# Load .env enviroment variables\n",
    "from dotenv import load_dotenv\n",
    "load_dotenv()\n",
    "\n",
    "# Set Alpaca API key and secret\n",
    "alpaca_api_key = os.getenv(\"ALPACA_API_KEY\")\n",
    "alpaca_secret_key = os.getenv(\"ALPACA_SECRET_KEY\")\n",
    "\n",
    "# api = tradeapi.REST()\n",
    "api = tradeapi.REST(alpaca_api_key, alpaca_secret_key, api_version='v2')"
   ]
  },
  {
   "cell_type": "code",
   "execution_count": 5,
   "metadata": {},
   "outputs": [
    {
     "data": {
      "text/plain": [
       "str"
      ]
     },
     "execution_count": 5,
     "metadata": {},
     "output_type": "execute_result"
    }
   ],
   "source": [
    "# Test if API keys are properly loaded in by using 'type'-function and see if it returns string\n",
    "\n",
    "type(os.getenv(\"ALPACA_API_KEY\"))\n",
    "type(os.getenv(\"ALPACA_SECRET_KEY\"))"
   ]
  },
  {
   "cell_type": "markdown",
   "metadata": {},
   "source": [
    "# Data Collection\n",
    "\n",
    "In this step, you will need to use the Alpaca api to fetch closing prices for the `SPY` and `AGG` tickers. Save the results as a pandas DataFrame"
   ]
  },
  {
   "cell_type": "code",
   "execution_count": 6,
   "metadata": {},
   "outputs": [
    {
     "data": {
      "text/html": [
       "<div>\n",
       "<style scoped>\n",
       "    .dataframe tbody tr th:only-of-type {\n",
       "        vertical-align: middle;\n",
       "    }\n",
       "\n",
       "    .dataframe tbody tr th {\n",
       "        vertical-align: top;\n",
       "    }\n",
       "\n",
       "    .dataframe thead tr th {\n",
       "        text-align: left;\n",
       "    }\n",
       "</style>\n",
       "<table border=\"1\" class=\"dataframe\">\n",
       "  <thead>\n",
       "    <tr>\n",
       "      <th></th>\n",
       "      <th colspan=\"5\" halign=\"left\">AGG</th>\n",
       "      <th colspan=\"5\" halign=\"left\">SPY</th>\n",
       "    </tr>\n",
       "    <tr>\n",
       "      <th></th>\n",
       "      <th>open</th>\n",
       "      <th>high</th>\n",
       "      <th>low</th>\n",
       "      <th>close</th>\n",
       "      <th>volume</th>\n",
       "      <th>open</th>\n",
       "      <th>high</th>\n",
       "      <th>low</th>\n",
       "      <th>close</th>\n",
       "      <th>volume</th>\n",
       "    </tr>\n",
       "  </thead>\n",
       "  <tbody>\n",
       "    <tr>\n",
       "      <th>2019-11-25 00:00:00-05:00</th>\n",
       "      <td>112.91</td>\n",
       "      <td>113.010</td>\n",
       "      <td>112.89</td>\n",
       "      <td>112.980</td>\n",
       "      <td>2848536</td>\n",
       "      <td>311.980</td>\n",
       "      <td>313.37</td>\n",
       "      <td>311.98</td>\n",
       "      <td>313.35</td>\n",
       "      <td>37229034</td>\n",
       "    </tr>\n",
       "    <tr>\n",
       "      <th>2019-11-26 00:00:00-05:00</th>\n",
       "      <td>113.11</td>\n",
       "      <td>113.159</td>\n",
       "      <td>113.08</td>\n",
       "      <td>113.120</td>\n",
       "      <td>2104446</td>\n",
       "      <td>313.410</td>\n",
       "      <td>314.28</td>\n",
       "      <td>313.06</td>\n",
       "      <td>314.02</td>\n",
       "      <td>30435576</td>\n",
       "    </tr>\n",
       "    <tr>\n",
       "      <th>2019-11-27 00:00:00-05:00</th>\n",
       "      <td>113.03</td>\n",
       "      <td>113.070</td>\n",
       "      <td>112.96</td>\n",
       "      <td>112.995</td>\n",
       "      <td>1844546</td>\n",
       "      <td>314.610</td>\n",
       "      <td>315.47</td>\n",
       "      <td>314.37</td>\n",
       "      <td>315.46</td>\n",
       "      <td>34799247</td>\n",
       "    </tr>\n",
       "    <tr>\n",
       "      <th>2019-11-29 00:00:00-05:00</th>\n",
       "      <td>113.01</td>\n",
       "      <td>113.020</td>\n",
       "      <td>112.85</td>\n",
       "      <td>112.925</td>\n",
       "      <td>2123435</td>\n",
       "      <td>314.860</td>\n",
       "      <td>315.13</td>\n",
       "      <td>314.06</td>\n",
       "      <td>314.27</td>\n",
       "      <td>24780428</td>\n",
       "    </tr>\n",
       "    <tr>\n",
       "      <th>2019-12-02 00:00:00-05:00</th>\n",
       "      <td>112.31</td>\n",
       "      <td>112.510</td>\n",
       "      <td>112.29</td>\n",
       "      <td>112.480</td>\n",
       "      <td>5720136</td>\n",
       "      <td>314.327</td>\n",
       "      <td>314.37</td>\n",
       "      <td>311.17</td>\n",
       "      <td>311.60</td>\n",
       "      <td>61594879</td>\n",
       "    </tr>\n",
       "  </tbody>\n",
       "</table>\n",
       "</div>"
      ],
      "text/plain": [
       "                              AGG                                         SPY  \\\n",
       "                             open     high     low    close   volume     open   \n",
       "2019-11-25 00:00:00-05:00  112.91  113.010  112.89  112.980  2848536  311.980   \n",
       "2019-11-26 00:00:00-05:00  113.11  113.159  113.08  113.120  2104446  313.410   \n",
       "2019-11-27 00:00:00-05:00  113.03  113.070  112.96  112.995  1844546  314.610   \n",
       "2019-11-29 00:00:00-05:00  113.01  113.020  112.85  112.925  2123435  314.860   \n",
       "2019-12-02 00:00:00-05:00  112.31  112.510  112.29  112.480  5720136  314.327   \n",
       "\n",
       "                                                             \n",
       "                             high     low   close    volume  \n",
       "2019-11-25 00:00:00-05:00  313.37  311.98  313.35  37229034  \n",
       "2019-11-26 00:00:00-05:00  314.28  313.06  314.02  30435576  \n",
       "2019-11-27 00:00:00-05:00  315.47  314.37  315.46  34799247  \n",
       "2019-11-29 00:00:00-05:00  315.13  314.06  314.27  24780428  \n",
       "2019-12-02 00:00:00-05:00  314.37  311.17  311.60  61594879  "
      ]
     },
     "execution_count": 6,
     "metadata": {},
     "output_type": "execute_result"
    }
   ],
   "source": [
    "# YOUR CODE HERE\n",
    "\n",
    "# Set the list of tickers\n",
    "list_of_tickers = [\"SPY\", \"AGG\"]\n",
    "\n",
    "# Set timeframe to '1D'\n",
    "timeframe = '1D'\n",
    "\n",
    "# Set start and end datetimes of 1 year, between now and 365 days ago.\n",
    "end_date = datetime.now()\n",
    "start_date = end_date + timedelta(-365)\n",
    "\n",
    "# Get 1 year's worth of historical data for SPY and AGG\n",
    "alpaca_df = api.get_barset(\n",
    "    list_of_tickers,\n",
    "    timeframe,\n",
    "    limit=None,\n",
    "    start=start_date,\n",
    "    end=end_date,\n",
    "    after=None,\n",
    "    until=None,\n",
    ").df\n",
    "\n",
    "alpaca_df.head()"
   ]
  },
  {
   "cell_type": "code",
   "execution_count": 7,
   "metadata": {},
   "outputs": [
    {
     "data": {
      "text/html": [
       "<div>\n",
       "<style scoped>\n",
       "    .dataframe tbody tr th:only-of-type {\n",
       "        vertical-align: middle;\n",
       "    }\n",
       "\n",
       "    .dataframe tbody tr th {\n",
       "        vertical-align: top;\n",
       "    }\n",
       "\n",
       "    .dataframe thead tr th {\n",
       "        text-align: left;\n",
       "    }\n",
       "</style>\n",
       "<table border=\"1\" class=\"dataframe\">\n",
       "  <thead>\n",
       "    <tr>\n",
       "      <th></th>\n",
       "      <th>AGG</th>\n",
       "      <th>SPY</th>\n",
       "    </tr>\n",
       "    <tr>\n",
       "      <th></th>\n",
       "      <th>close</th>\n",
       "      <th>close</th>\n",
       "    </tr>\n",
       "  </thead>\n",
       "  <tbody>\n",
       "    <tr>\n",
       "      <th>2019-11-25 00:00:00-05:00</th>\n",
       "      <td>112.980</td>\n",
       "      <td>313.35</td>\n",
       "    </tr>\n",
       "    <tr>\n",
       "      <th>2019-11-26 00:00:00-05:00</th>\n",
       "      <td>113.120</td>\n",
       "      <td>314.02</td>\n",
       "    </tr>\n",
       "    <tr>\n",
       "      <th>2019-11-27 00:00:00-05:00</th>\n",
       "      <td>112.995</td>\n",
       "      <td>315.46</td>\n",
       "    </tr>\n",
       "    <tr>\n",
       "      <th>2019-11-29 00:00:00-05:00</th>\n",
       "      <td>112.925</td>\n",
       "      <td>314.27</td>\n",
       "    </tr>\n",
       "    <tr>\n",
       "      <th>2019-12-02 00:00:00-05:00</th>\n",
       "      <td>112.480</td>\n",
       "      <td>311.60</td>\n",
       "    </tr>\n",
       "  </tbody>\n",
       "</table>\n",
       "</div>"
      ],
      "text/plain": [
       "                               AGG     SPY\n",
       "                             close   close\n",
       "2019-11-25 00:00:00-05:00  112.980  313.35\n",
       "2019-11-26 00:00:00-05:00  113.120  314.02\n",
       "2019-11-27 00:00:00-05:00  112.995  315.46\n",
       "2019-11-29 00:00:00-05:00  112.925  314.27\n",
       "2019-12-02 00:00:00-05:00  112.480  311.60"
      ]
     },
     "execution_count": 7,
     "metadata": {},
     "output_type": "execute_result"
    }
   ],
   "source": [
    "# Use the `drop` function with the `level` parameter to drop extra columns in the multi-index DataFrame\n",
    "alpaca_df.drop(columns=['open', 'high', 'low', 'volume'], level=1, inplace=True)\n",
    "alpaca_df.head()"
   ]
  },
  {
   "cell_type": "markdown",
   "metadata": {},
   "source": [
    "# Monte Carlo Simulation\n",
    "\n",
    "In this step, you will run Monte Carlo Simulations for your portfolio to model portfolio performance at different retirement ages. \n",
    "\n",
    "Complete the following steps:\n",
    "1. Calculate the daily returns for the SPY and AGG closing prices.\n",
    "2. Calculate volatility for both the SPY and AGG closing prices.\n",
    "3. Find the last day's closing price for both stocks and save those as variables.\n",
    "4. Run a Monte Carlo Simulation of at least 500 iterations and generate at least 30 years of closing prices\n",
    "\n",
    "### HINTS:\n",
    "There are 252 trading days per year, so the number of records to generate for each Monte Carlo run will be 252 days * 30 years"
   ]
  },
  {
   "cell_type": "code",
   "execution_count": 99,
   "metadata": {},
   "outputs": [],
   "source": [
    "# Calculate the daily roi for the stocks\n",
    "# YOUR CODE HERE\n",
    "\n",
    "# Use the `pct_change` function to calculate daily returns of `AGG` and `SPY`.\n",
    "daily_returns = alpaca_df.pct_change()\n",
    "daily_returns.head()\n",
    "\n",
    "# Use the `mean` function to calculate the mean of daily returns for `TLSA` and `SPHD`, respectively\n",
    "avg_daily_return_agg = daily_returns.mean()['AGG']['close']\n",
    "avg_daily_return_spy = daily_returns.mean()['SPY']['close']"
   ]
  },
  {
   "cell_type": "code",
   "execution_count": 100,
   "metadata": {},
   "outputs": [
    {
     "name": "stdout",
     "output_type": "stream",
     "text": [
      "The standard deviation of daily returns for AGG is 0.00849621679692908\n",
      "The standard deviation of daily returns for SPY is 0.03035576769149059\n"
     ]
    }
   ],
   "source": [
    "# Calculate volatility\n",
    "# YOUR CODE HERE\n",
    "\n",
    "# Use the `std` function to calculate the standard deviation of daily returns for `AGG` and `SPY`\n",
    "std_dev_daily_return_agg = daily_returns.std()['AGG']['close']\n",
    "std_dev_daily_return_spy = daily_returns.std()['SPY']['close']\n",
    "\n",
    "print(f\"The standard deviation of daily returns for AGG is {std_dev_daily_return_agg}\")\n",
    "print(f\"The standard deviation of daily returns for SPY is {std_dev_daily_return_spy}\")"
   ]
  },
  {
   "cell_type": "code",
   "execution_count": 101,
   "metadata": {},
   "outputs": [],
   "source": [
    "# Save the last day's closing price\n",
    "# YOUR CODE HERE\n",
    "\n",
    "agg_last_price = alpaca_df['AGG']['close'][-1]\n",
    "spy_last_price = alpaca_df['SPY']['close'][-1]"
   ]
  },
  {
   "cell_type": "code",
   "execution_count": 102,
   "metadata": {},
   "outputs": [],
   "source": [
    "# Setup the Monte Carlo Parameters\n",
    "number_simulations = 500\n",
    "number_records = 252 * 30\n",
    "# monte_carlo = pd.DataFrame()\n",
    "simulated_price_df = pd.DataFrame()\n",
    "portfolio_cumulative_returns = pd.DataFrame()"
   ]
  },
  {
   "cell_type": "code",
   "execution_count": 103,
   "metadata": {},
   "outputs": [],
   "source": [
    "# Run the Monte Carlo Simulation\n",
    "for x in range(number_simulations):\n",
    "    \n",
    "    # YOUR CODE HERE\n",
    "    \n",
    "    # Initialize the simulated prices list with the last closing price of `AGG` and `SPY`\n",
    "    simulated_agg_prices = [agg_last_price]\n",
    "    simulated_spy_prices = [spy_last_price]\n",
    "    \n",
    "    # Simulate the returns for 252 * 30 days\n",
    "    for i in range(number_records):\n",
    "        \n",
    "        # Calculate the simulated price using the last price within the list\n",
    "        simulated_agg_price = simulated_agg_prices[-1] * (1 + np.random.normal(avg_daily_return_agg, std_dev_daily_return_agg))\n",
    "        simulated_spy_price = simulated_spy_prices[-1] * (1 + np.random.normal(avg_daily_return_spy, std_dev_daily_return_spy))\n",
    "        \n",
    "        # Append the simulated price to the list\n",
    "        simulated_agg_prices.append(simulated_agg_price)\n",
    "        simulated_spy_prices.append(simulated_spy_price)\n",
    "        \n",
    "    # Append a simulated prices of each simulation to DataFrame\n",
    "    simulated_price_df[\"AGG prices\"] = pd.Series(simulated_agg_prices)\n",
    "    simulated_price_df[\"SPY prices\"] = pd.Series(simulated_spy_prices)\n",
    "    \n",
    "    # Calculate the daily returns of simulated prices\n",
    "    simulated_daily_returns = simulated_price_df.pct_change()\n",
    "    \n",
    "    # Set the portfolio weights (60% SPY; 40% AGG)\n",
    "    weights = [0.4, 0.6]\n",
    "    \n",
    "    # Use the `dot` function with the weights to multiply weights with each column's simulated daily returns\n",
    "    portfolio_daily_returns = simulated_daily_returns.dot(weights)\n",
    "    \n",
    "    # Calculate the normalized, cumulative return series\n",
    "    portfolio_cumulative_returns[x] = (1 + portfolio_daily_returns.fillna(0)).cumprod()"
   ]
  },
  {
   "cell_type": "code",
   "execution_count": 119,
   "metadata": {},
   "outputs": [
    {
     "data": {
      "text/html": [
       "<div>\n",
       "<style scoped>\n",
       "    .dataframe tbody tr th:only-of-type {\n",
       "        vertical-align: middle;\n",
       "    }\n",
       "\n",
       "    .dataframe tbody tr th {\n",
       "        vertical-align: top;\n",
       "    }\n",
       "\n",
       "    .dataframe thead th {\n",
       "        text-align: right;\n",
       "    }\n",
       "</style>\n",
       "<table border=\"1\" class=\"dataframe\">\n",
       "  <thead>\n",
       "    <tr style=\"text-align: right;\">\n",
       "      <th></th>\n",
       "      <th>0</th>\n",
       "      <th>1</th>\n",
       "      <th>2</th>\n",
       "      <th>3</th>\n",
       "      <th>4</th>\n",
       "      <th>5</th>\n",
       "      <th>6</th>\n",
       "      <th>7</th>\n",
       "      <th>8</th>\n",
       "      <th>9</th>\n",
       "      <th>...</th>\n",
       "      <th>490</th>\n",
       "      <th>491</th>\n",
       "      <th>492</th>\n",
       "      <th>493</th>\n",
       "      <th>494</th>\n",
       "      <th>495</th>\n",
       "      <th>496</th>\n",
       "      <th>497</th>\n",
       "      <th>498</th>\n",
       "      <th>499</th>\n",
       "    </tr>\n",
       "  </thead>\n",
       "  <tbody>\n",
       "    <tr>\n",
       "      <th>0</th>\n",
       "      <td>1.000000</td>\n",
       "      <td>1.000000</td>\n",
       "      <td>1.000000</td>\n",
       "      <td>1.000000</td>\n",
       "      <td>1.000000</td>\n",
       "      <td>1.000000</td>\n",
       "      <td>1.000000</td>\n",
       "      <td>1.000000</td>\n",
       "      <td>1.000000</td>\n",
       "      <td>1.000000</td>\n",
       "      <td>...</td>\n",
       "      <td>1.000000</td>\n",
       "      <td>1.000000</td>\n",
       "      <td>1.000000</td>\n",
       "      <td>1.000000</td>\n",
       "      <td>1.000000</td>\n",
       "      <td>1.000000</td>\n",
       "      <td>1.000000</td>\n",
       "      <td>1.000000</td>\n",
       "      <td>1.000000</td>\n",
       "      <td>1.000000</td>\n",
       "    </tr>\n",
       "    <tr>\n",
       "      <th>1</th>\n",
       "      <td>1.013486</td>\n",
       "      <td>1.029481</td>\n",
       "      <td>0.991587</td>\n",
       "      <td>1.018147</td>\n",
       "      <td>0.979247</td>\n",
       "      <td>1.015627</td>\n",
       "      <td>0.974901</td>\n",
       "      <td>0.998910</td>\n",
       "      <td>0.988884</td>\n",
       "      <td>1.048278</td>\n",
       "      <td>...</td>\n",
       "      <td>1.020519</td>\n",
       "      <td>0.972220</td>\n",
       "      <td>0.991153</td>\n",
       "      <td>1.008432</td>\n",
       "      <td>1.007923</td>\n",
       "      <td>0.988915</td>\n",
       "      <td>1.002644</td>\n",
       "      <td>0.965400</td>\n",
       "      <td>1.019002</td>\n",
       "      <td>0.998656</td>\n",
       "    </tr>\n",
       "    <tr>\n",
       "      <th>2</th>\n",
       "      <td>1.026160</td>\n",
       "      <td>1.033907</td>\n",
       "      <td>0.966821</td>\n",
       "      <td>1.034941</td>\n",
       "      <td>0.971930</td>\n",
       "      <td>0.999363</td>\n",
       "      <td>0.961278</td>\n",
       "      <td>1.018304</td>\n",
       "      <td>0.982953</td>\n",
       "      <td>1.043183</td>\n",
       "      <td>...</td>\n",
       "      <td>0.986519</td>\n",
       "      <td>0.978931</td>\n",
       "      <td>1.025622</td>\n",
       "      <td>1.001114</td>\n",
       "      <td>1.002656</td>\n",
       "      <td>0.988897</td>\n",
       "      <td>1.019020</td>\n",
       "      <td>0.937325</td>\n",
       "      <td>1.044082</td>\n",
       "      <td>0.983581</td>\n",
       "    </tr>\n",
       "    <tr>\n",
       "      <th>3</th>\n",
       "      <td>1.054325</td>\n",
       "      <td>1.045288</td>\n",
       "      <td>1.001747</td>\n",
       "      <td>1.049352</td>\n",
       "      <td>0.972739</td>\n",
       "      <td>0.979440</td>\n",
       "      <td>0.941223</td>\n",
       "      <td>0.988220</td>\n",
       "      <td>0.996820</td>\n",
       "      <td>1.042543</td>\n",
       "      <td>...</td>\n",
       "      <td>0.994923</td>\n",
       "      <td>0.981104</td>\n",
       "      <td>1.015508</td>\n",
       "      <td>1.029948</td>\n",
       "      <td>1.025105</td>\n",
       "      <td>0.993231</td>\n",
       "      <td>1.024166</td>\n",
       "      <td>0.959360</td>\n",
       "      <td>1.074714</td>\n",
       "      <td>0.993615</td>\n",
       "    </tr>\n",
       "    <tr>\n",
       "      <th>4</th>\n",
       "      <td>1.062209</td>\n",
       "      <td>1.028695</td>\n",
       "      <td>0.991909</td>\n",
       "      <td>1.062020</td>\n",
       "      <td>0.983345</td>\n",
       "      <td>0.964712</td>\n",
       "      <td>0.928497</td>\n",
       "      <td>0.971655</td>\n",
       "      <td>1.026175</td>\n",
       "      <td>1.052331</td>\n",
       "      <td>...</td>\n",
       "      <td>0.981019</td>\n",
       "      <td>0.958522</td>\n",
       "      <td>1.069527</td>\n",
       "      <td>1.031033</td>\n",
       "      <td>1.041028</td>\n",
       "      <td>0.953520</td>\n",
       "      <td>1.031538</td>\n",
       "      <td>0.963438</td>\n",
       "      <td>1.049455</td>\n",
       "      <td>0.973246</td>\n",
       "    </tr>\n",
       "    <tr>\n",
       "      <th>...</th>\n",
       "      <td>...</td>\n",
       "      <td>...</td>\n",
       "      <td>...</td>\n",
       "      <td>...</td>\n",
       "      <td>...</td>\n",
       "      <td>...</td>\n",
       "      <td>...</td>\n",
       "      <td>...</td>\n",
       "      <td>...</td>\n",
       "      <td>...</td>\n",
       "      <td>...</td>\n",
       "      <td>...</td>\n",
       "      <td>...</td>\n",
       "      <td>...</td>\n",
       "      <td>...</td>\n",
       "      <td>...</td>\n",
       "      <td>...</td>\n",
       "      <td>...</td>\n",
       "      <td>...</td>\n",
       "      <td>...</td>\n",
       "      <td>...</td>\n",
       "    </tr>\n",
       "    <tr>\n",
       "      <th>7556</th>\n",
       "      <td>0.032812</td>\n",
       "      <td>0.383950</td>\n",
       "      <td>0.908332</td>\n",
       "      <td>0.430983</td>\n",
       "      <td>0.339269</td>\n",
       "      <td>1.100031</td>\n",
       "      <td>0.026063</td>\n",
       "      <td>0.145000</td>\n",
       "      <td>0.018358</td>\n",
       "      <td>0.087352</td>\n",
       "      <td>...</td>\n",
       "      <td>0.228591</td>\n",
       "      <td>3.861160</td>\n",
       "      <td>0.406008</td>\n",
       "      <td>0.102922</td>\n",
       "      <td>3.020793</td>\n",
       "      <td>0.069757</td>\n",
       "      <td>0.062239</td>\n",
       "      <td>0.024755</td>\n",
       "      <td>0.020143</td>\n",
       "      <td>1.036042</td>\n",
       "    </tr>\n",
       "    <tr>\n",
       "      <th>7557</th>\n",
       "      <td>0.033367</td>\n",
       "      <td>0.378341</td>\n",
       "      <td>0.918413</td>\n",
       "      <td>0.440300</td>\n",
       "      <td>0.342166</td>\n",
       "      <td>1.102652</td>\n",
       "      <td>0.025963</td>\n",
       "      <td>0.148131</td>\n",
       "      <td>0.018676</td>\n",
       "      <td>0.087419</td>\n",
       "      <td>...</td>\n",
       "      <td>0.231588</td>\n",
       "      <td>3.847588</td>\n",
       "      <td>0.414592</td>\n",
       "      <td>0.103828</td>\n",
       "      <td>3.083106</td>\n",
       "      <td>0.068486</td>\n",
       "      <td>0.063812</td>\n",
       "      <td>0.024236</td>\n",
       "      <td>0.020160</td>\n",
       "      <td>1.010759</td>\n",
       "    </tr>\n",
       "    <tr>\n",
       "      <th>7558</th>\n",
       "      <td>0.034056</td>\n",
       "      <td>0.364859</td>\n",
       "      <td>0.916942</td>\n",
       "      <td>0.453740</td>\n",
       "      <td>0.343092</td>\n",
       "      <td>1.102193</td>\n",
       "      <td>0.026177</td>\n",
       "      <td>0.148100</td>\n",
       "      <td>0.018450</td>\n",
       "      <td>0.086422</td>\n",
       "      <td>...</td>\n",
       "      <td>0.230812</td>\n",
       "      <td>3.817999</td>\n",
       "      <td>0.405607</td>\n",
       "      <td>0.104343</td>\n",
       "      <td>3.140205</td>\n",
       "      <td>0.069695</td>\n",
       "      <td>0.064864</td>\n",
       "      <td>0.024781</td>\n",
       "      <td>0.019777</td>\n",
       "      <td>1.004560</td>\n",
       "    </tr>\n",
       "    <tr>\n",
       "      <th>7559</th>\n",
       "      <td>0.033674</td>\n",
       "      <td>0.357822</td>\n",
       "      <td>0.929581</td>\n",
       "      <td>0.454810</td>\n",
       "      <td>0.339803</td>\n",
       "      <td>1.098974</td>\n",
       "      <td>0.026594</td>\n",
       "      <td>0.147503</td>\n",
       "      <td>0.017688</td>\n",
       "      <td>0.086982</td>\n",
       "      <td>...</td>\n",
       "      <td>0.230416</td>\n",
       "      <td>3.720462</td>\n",
       "      <td>0.407451</td>\n",
       "      <td>0.105962</td>\n",
       "      <td>3.111616</td>\n",
       "      <td>0.069991</td>\n",
       "      <td>0.062926</td>\n",
       "      <td>0.024557</td>\n",
       "      <td>0.018825</td>\n",
       "      <td>1.029638</td>\n",
       "    </tr>\n",
       "    <tr>\n",
       "      <th>7560</th>\n",
       "      <td>0.033537</td>\n",
       "      <td>0.350561</td>\n",
       "      <td>0.917676</td>\n",
       "      <td>0.457830</td>\n",
       "      <td>0.337381</td>\n",
       "      <td>1.092336</td>\n",
       "      <td>0.026381</td>\n",
       "      <td>0.146477</td>\n",
       "      <td>0.017528</td>\n",
       "      <td>0.088051</td>\n",
       "      <td>...</td>\n",
       "      <td>0.225158</td>\n",
       "      <td>3.805009</td>\n",
       "      <td>0.422944</td>\n",
       "      <td>0.105752</td>\n",
       "      <td>3.107984</td>\n",
       "      <td>0.069312</td>\n",
       "      <td>0.063283</td>\n",
       "      <td>0.024370</td>\n",
       "      <td>0.019165</td>\n",
       "      <td>1.023563</td>\n",
       "    </tr>\n",
       "  </tbody>\n",
       "</table>\n",
       "<p>7561 rows × 500 columns</p>\n",
       "</div>"
      ],
      "text/plain": [
       "           0         1         2         3         4         5         6    \\\n",
       "0     1.000000  1.000000  1.000000  1.000000  1.000000  1.000000  1.000000   \n",
       "1     1.013486  1.029481  0.991587  1.018147  0.979247  1.015627  0.974901   \n",
       "2     1.026160  1.033907  0.966821  1.034941  0.971930  0.999363  0.961278   \n",
       "3     1.054325  1.045288  1.001747  1.049352  0.972739  0.979440  0.941223   \n",
       "4     1.062209  1.028695  0.991909  1.062020  0.983345  0.964712  0.928497   \n",
       "...        ...       ...       ...       ...       ...       ...       ...   \n",
       "7556  0.032812  0.383950  0.908332  0.430983  0.339269  1.100031  0.026063   \n",
       "7557  0.033367  0.378341  0.918413  0.440300  0.342166  1.102652  0.025963   \n",
       "7558  0.034056  0.364859  0.916942  0.453740  0.343092  1.102193  0.026177   \n",
       "7559  0.033674  0.357822  0.929581  0.454810  0.339803  1.098974  0.026594   \n",
       "7560  0.033537  0.350561  0.917676  0.457830  0.337381  1.092336  0.026381   \n",
       "\n",
       "           7         8         9    ...       490       491       492  \\\n",
       "0     1.000000  1.000000  1.000000  ...  1.000000  1.000000  1.000000   \n",
       "1     0.998910  0.988884  1.048278  ...  1.020519  0.972220  0.991153   \n",
       "2     1.018304  0.982953  1.043183  ...  0.986519  0.978931  1.025622   \n",
       "3     0.988220  0.996820  1.042543  ...  0.994923  0.981104  1.015508   \n",
       "4     0.971655  1.026175  1.052331  ...  0.981019  0.958522  1.069527   \n",
       "...        ...       ...       ...  ...       ...       ...       ...   \n",
       "7556  0.145000  0.018358  0.087352  ...  0.228591  3.861160  0.406008   \n",
       "7557  0.148131  0.018676  0.087419  ...  0.231588  3.847588  0.414592   \n",
       "7558  0.148100  0.018450  0.086422  ...  0.230812  3.817999  0.405607   \n",
       "7559  0.147503  0.017688  0.086982  ...  0.230416  3.720462  0.407451   \n",
       "7560  0.146477  0.017528  0.088051  ...  0.225158  3.805009  0.422944   \n",
       "\n",
       "           493       494       495       496       497       498       499  \n",
       "0     1.000000  1.000000  1.000000  1.000000  1.000000  1.000000  1.000000  \n",
       "1     1.008432  1.007923  0.988915  1.002644  0.965400  1.019002  0.998656  \n",
       "2     1.001114  1.002656  0.988897  1.019020  0.937325  1.044082  0.983581  \n",
       "3     1.029948  1.025105  0.993231  1.024166  0.959360  1.074714  0.993615  \n",
       "4     1.031033  1.041028  0.953520  1.031538  0.963438  1.049455  0.973246  \n",
       "...        ...       ...       ...       ...       ...       ...       ...  \n",
       "7556  0.102922  3.020793  0.069757  0.062239  0.024755  0.020143  1.036042  \n",
       "7557  0.103828  3.083106  0.068486  0.063812  0.024236  0.020160  1.010759  \n",
       "7558  0.104343  3.140205  0.069695  0.064864  0.024781  0.019777  1.004560  \n",
       "7559  0.105962  3.111616  0.069991  0.062926  0.024557  0.018825  1.029638  \n",
       "7560  0.105752  3.107984  0.069312  0.063283  0.024370  0.019165  1.023563  \n",
       "\n",
       "[7561 rows x 500 columns]"
      ]
     },
     "execution_count": 119,
     "metadata": {},
     "output_type": "execute_result"
    }
   ],
   "source": [
    "# Visualize the Simulation\n",
    "# YOUR CODE HERE\n",
    "portfolio_cumulative_returns"
   ]
  },
  {
   "cell_type": "code",
   "execution_count": 109,
   "metadata": {},
   "outputs": [
    {
     "data": {
      "text/plain": [
       "<matplotlib.axes._subplots.AxesSubplot at 0x1a4acfa10>"
      ]
     },
     "execution_count": 109,
     "metadata": {},
     "output_type": "execute_result"
    },
    {
     "data": {
      "image/png": "[encoded data removed]",
      "text/plain": [
       "<Figure size 864x432 with 1 Axes>"
      ]
     },
     "metadata": {
      "needs_background": "light"
     },
     "output_type": "display_data"
    }
   ],
   "source": [
    "plot_title = f\"{x+1} Simulations of Cumulative Portfolio Return Trajectories Over the Next 30 Years\"\n",
    "monte_carlo_plot = portfolio_cumulative_returns.plot(legend=False, title=plot_title, figsize=(12, 6))\n",
    "monte_carlo_plot"
   ]
  },
  {
   "cell_type": "code",
   "execution_count": 115,
   "metadata": {},
   "outputs": [
    {
     "data": {
      "text/plain": [
       "0      0.033537\n",
       "1      0.350561\n",
       "2      0.917676\n",
       "3      0.457830\n",
       "4      0.337381\n",
       "         ...   \n",
       "495    0.069312\n",
       "496    0.063283\n",
       "497    0.024370\n",
       "498    0.019165\n",
       "499    1.023563\n",
       "Name: 7560, Length: 500, dtype: float64"
      ]
     },
     "execution_count": 115,
     "metadata": {},
     "output_type": "execute_result"
    }
   ],
   "source": [
    "# Select the last row for the cumulative returns (cumulative returns at 30 years)\n",
    "# YOUR CODE HERE\n",
    "\n",
    "ending_cumulative_returns = portfolio_cumulative_returns.iloc[-1, :]\n",
    "ending_cumulative_returns"
   ]
  },
  {
   "cell_type": "code",
   "execution_count": 127,
   "metadata": {},
   "outputs": [
    {
     "data": {
      "text/plain": [
       "0      0.140782\n",
       "1      0.631449\n",
       "2      1.735558\n",
       "3      0.877105\n",
       "4      0.085062\n",
       "         ...   \n",
       "495    0.049819\n",
       "496    0.110831\n",
       "497    0.161648\n",
       "498    0.062584\n",
       "499    0.689456\n",
       "Name: 5041, Length: 500, dtype: float64"
      ]
     },
     "execution_count": 127,
     "metadata": {},
     "output_type": "execute_result"
    }
   ],
   "source": [
    "# Select the last row for the cumulative returns (cumulative returns at 20 years)\n",
    "# YOUR CODE HERE\n",
    "\n",
    "# simulation is for 30 years, so cumulative returns at 20 years needs to iloc for -(10 * 252) \n",
    "\n",
    "ending_cumulative_returns20yr = portfolio_cumulative_returns.iloc[-2520, :]\n",
    "ending_cumulative_returns20yr"
   ]
  },
  {
   "cell_type": "code",
   "execution_count": null,
   "metadata": {},
   "outputs": [],
   "source": [
    "# Display the 90% confidence interval for the ending returns\n",
    "# YOUR CODE HERE"
   ]
  },
  {
   "cell_type": "code",
   "execution_count": null,
   "metadata": {},
   "outputs": [],
   "source": [
    "# Visualize the distribution of the ending returns\n",
    "# YOUR CODE HERE"
   ]
  },
  {
   "cell_type": "markdown",
   "metadata": {},
   "source": [
    "---"
   ]
  },
  {
   "cell_type": "markdown",
   "metadata": {},
   "source": [
    "# Retirement Analysis\n",
    "\n",
    "In this section, you will use the monte carlo model to answer the following retirement planning questions:\n",
    "\n",
    "1. What are the expected cumulative returns at 30 years for the 10th, 50th, and 90th percentiles?\n",
    "2. Given an initial investment of `$20,000`, what is the expected portfolio return in dollars at the 10th, 50th, and 90th percentiles?\n",
    "3. Given the current projected annual income from the Plaid analysis, will a 4% withdraw rate from the retirement portfolio meet or exceed that value at the 10th percentile?\n",
    "4. How would a 50% increase in the initial investment amount affect the 4% retirement withdrawal?"
   ]
  },
  {
   "cell_type": "markdown",
   "metadata": {},
   "source": [
    "### What are the expected cumulative returns at 30 years for the 10th, 50th, and 90th percentiles?"
   ]
  },
  {
   "cell_type": "code",
   "execution_count": null,
   "metadata": {},
   "outputs": [],
   "source": [
    "# YOUR CODE HERE"
   ]
  },
  {
   "cell_type": "markdown",
   "metadata": {},
   "source": [
    "### Given an initial investment of `$20,000`, what is the expected portfolio return in dollars at the 10th, 50th, and 90th percentiles?"
   ]
  },
  {
   "cell_type": "code",
   "execution_count": null,
   "metadata": {},
   "outputs": [],
   "source": [
    "# YOUR CODE HERE"
   ]
  },
  {
   "cell_type": "markdown",
   "metadata": {},
   "source": [
    "### Given the current projected annual income from the Plaid analysis, will a 4% withdraw rate from the retirement portfolio meet or exceed that value at the 10th percentile?\n",
    "\n",
    "Note: This is effectively saying that 90% of the expected returns will be greater than the return at the 10th percentile, so this can help measure the uncertainty about having enough funds at retirement"
   ]
  },
  {
   "cell_type": "code",
   "execution_count": null,
   "metadata": {},
   "outputs": [],
   "source": [
    "# YOUR CODE HERE"
   ]
  },
  {
   "cell_type": "markdown",
   "metadata": {},
   "source": [
    "### How would a 50% increase in the initial investment amount affect the 4% retirement withdrawal?"
   ]
  },
  {
   "cell_type": "code",
   "execution_count": null,
   "metadata": {},
   "outputs": [],
   "source": [
    "# YOUR CODE HERE"
   ]
  },
  {
   "cell_type": "markdown",
   "metadata": {},
   "source": [
    "### Optional Challenge\n",
    "\n",
    "In this section, you will calculate and plot the cumulative returns for the median and 90% confidence intervals. This plot shows the expected cumulative returns for any given day between the first day and the last day of investment. "
   ]
  },
  {
   "cell_type": "code",
   "execution_count": null,
   "metadata": {},
   "outputs": [],
   "source": [
    "# YOUR CODE HERE"
   ]
  }
 ],
 "metadata": {
  "kernel_info": {
   "name": "dev"
  },
  "kernelspec": {
   "display_name": "Python 3",
   "language": "python",
   "name": "python3"
  },
  "language_info": {
   "codemirror_mode": {
    "name": "ipython",
    "version": 3
   },
   "file_extension": ".py",
   "mimetype": "text/x-python",
   "name": "python",
   "nbconvert_exporter": "python",
   "pygments_lexer": "ipython3",
   "version": "3.7.6"
  },
  "nteract": {
   "version": "0.12.3"
  }
 },
 "nbformat": 4,
 "nbformat_minor": 4
}
